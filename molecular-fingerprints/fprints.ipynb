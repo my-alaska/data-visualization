{
 "cells": [
  {
   "cell_type": "code",
   "execution_count": 1,
   "id": "2d6ec55e8958c01e",
   "metadata": {
    "ExecuteTime": {
     "end_time": "2024-05-10T14:50:35.602368300Z",
     "start_time": "2024-05-10T14:50:32.066297600Z"
    },
    "collapsed": false,
    "jupyter": {
     "outputs_hidden": false
    }
   },
   "outputs": [
    {
     "name": "stderr",
     "output_type": "stream",
     "text": [
      "C:\\Users\\piotr\\AppData\\Local\\Programs\\Python\\Python310\\lib\\site-packages\\huggingface_hub\\utils\\_runtime.py:184: UserWarning: Pydantic is installed but cannot be imported. Please check your installation. `huggingface_hub` will default to not using Pydantic. Error message: '{e}'\n",
      "  warnings.warn(\n"
     ]
    }
   ],
   "source": [
    "import os.path\n",
    "\n",
    "import numpy as np\n",
    "import pandas as pd\n",
    "from ogb.graphproppred import GraphPropPredDataset\n",
    "from skfp.preprocessing import MolFromSmilesTransformer, ConformerGenerator"
   ]
  },
  {
   "cell_type": "markdown",
   "id": "d08f130e165b3fd9",
   "metadata": {
    "collapsed": false,
    "jupyter": {
     "outputs_hidden": false
    }
   },
   "source": [
    "# Process the datasets\n",
    "\n",
    "The dataset stores molecules in SMILES format\n",
    "\n",
    "To compute the fingerprints we need molecule objects\n",
    "\n",
    "Some fingerprints require 3D conformers so we generate those too"
   ]
  },
  {
   "cell_type": "code",
   "execution_count": 2,
   "id": "88dbcac3c845bcca",
   "metadata": {
    "ExecuteTime": {
     "end_time": "2024-05-10T14:50:36.796220800Z",
     "start_time": "2024-05-10T14:50:35.605368600Z"
    },
    "collapsed": false,
    "jupyter": {
     "outputs_hidden": false
    }
   },
   "outputs": [
    {
     "name": "stdout",
     "output_type": "stream",
     "text": [
      "ogbg-molbace\n",
      "ogbg-molbbbp\n",
      "ogbg-molhiv\n"
     ]
    }
   ],
   "source": [
    "DATASET_NAMES = [\"ogbg-molbace\", \"ogbg-molbbbp\", \"ogbg-molhiv\"]\n",
    "CLASS_NAMES = [\"Class\", \"p_np\", \"HIV_active\"]\n",
    "\n",
    "if not os.path.exists(\"saved_mols\"): \n",
    "    os.mkdir(\"saved_mols\")\n",
    "\n",
    "all_datasets = []\n",
    "for dataset_name, feature in zip(DATASET_NAMES, CLASS_NAMES):\n",
    "    print(dataset_name)\n",
    "    if not os.path.exists(f\"saved_mols/{dataset_name}_mols_labels.npy\"):\n",
    "        GraphPropPredDataset(name=dataset_name, root=\"../dataset\")\n",
    "        dataset = pd.read_csv(\n",
    "            f\"dataset/{'_'.join(dataset_name.split('-'))}/mapping/mol.csv.gz\"\n",
    "        )\n",
    "\n",
    "        X = dataset[\"smiles\"]\n",
    "        X = MolFromSmilesTransformer().transform(X)\n",
    "        y = dataset[feature]\n",
    "\n",
    "        X, y = np.array(\n",
    "            ConformerGenerator(n_jobs=-1, error_on_gen_fail=False).transform_x_y(X, y)\n",
    "        )\n",
    "        np.save(f\"saved_mols/{dataset_name}_mols_labels.npy\", y, allow_pickle=True)\n",
    "        np.save(f\"saved_mols/{dataset_name}_mols_with_conformers.npy\", X, allow_pickle=True)\n",
    "        all_datasets.append((X, y))\n",
    "    else:\n",
    "        y = np.load(f\"saved_mols/{dataset_name}_mols_labels.npy\", allow_pickle=True)\n",
    "        X = np.load(f\"saved_mols/{dataset_name}_mols_with_conformers.npy\", allow_pickle=True)\n",
    "        all_datasets.append((X, y))\n",
    "    "
   ]
  },
  {
   "cell_type": "markdown",
   "id": "b1e19b3dff4ed746",
   "metadata": {
    "collapsed": false,
    "jupyter": {
     "outputs_hidden": false
    }
   },
   "source": [
    "# Compute, scale and save the fingerprints\n",
    "\n",
    "We want to compute the individual fingerprints and save them so that we can work on them later on without worrying about computing them multiple times"
   ]
  },
  {
   "cell_type": "code",
   "execution_count": 3,
   "id": "7536f4e757563db8",
   "metadata": {
    "ExecuteTime": {
     "end_time": "2024-05-10T14:50:37.019220500Z",
     "start_time": "2024-05-10T14:50:36.798220900Z"
    },
    "collapsed": false,
    "jupyter": {
     "outputs_hidden": false
    }
   },
   "outputs": [],
   "source": [
    "from skfp.fingerprints import *\n",
    "\n",
    "all_fingerprints = [\n",
    "    AtomPairFingerprint,\n",
    "    AutocorrFingerprint,\n",
    "    AvalonFingerprint,\n",
    "    # E3FPFingerprint,\n",
    "    ECFPFingerprint,\n",
    "    ERGFingerprint,\n",
    "    EStateFingerprint,\n",
    "    # GETAWAYFingerprint,\n",
    "    GhoseCrippenFingerprint,\n",
    "    KlekotaRothFingerprint,\n",
    "    LaggnerFingerprint,\n",
    "    LayeredFingerprint,\n",
    "    LingoFingerprint,\n",
    "    MACCSFingerprint,\n",
    "    MAPFingerprint,\n",
    "    MHFPFingerprint,\n",
    "    MordredFingerprint,\n",
    "    MORSEFingerprint,\n",
    "    PatternFingerprint,\n",
    "    # PharmacophoreFingerprint,\n",
    "    PhysiochemicalPropertiesFingerprint,\n",
    "    PubChemFingerprint,\n",
    "    RDFFingerprint,\n",
    "    RDKitFingerprint,\n",
    "    SECFPFingerprint,\n",
    "    TopologicalTorsionFingerprint,\n",
    "    USRFingerprint,\n",
    "    USRCATFingerprint,\n",
    "    WHIMFingerprint,\n",
    "]\n"
   ]
  },
  {
   "cell_type": "code",
   "execution_count": 4,
   "id": "31204f6b83759b67",
   "metadata": {
    "ExecuteTime": {
     "end_time": "2024-05-10T14:50:39.654654Z",
     "start_time": "2024-05-10T14:50:37.023220200Z"
    },
    "collapsed": false,
    "jupyter": {
     "outputs_hidden": false
    }
   },
   "outputs": [
    {
     "name": "stdout",
     "output_type": "stream",
     "text": [
      "ogbg-molbace\n",
      " - - - AtomPairFingerprint\n",
      " - - - AutocorrFingerprint\n",
      " - - - AvalonFingerprint\n",
      " - - - ECFPFingerprint\n",
      " - - - ERGFingerprint\n",
      " - - - EStateFingerprint\n",
      " - - - GhoseCrippenFingerprint\n",
      " - - - KlekotaRothFingerprint\n",
      " - - - LaggnerFingerprint\n",
      " - - - LayeredFingerprint\n",
      " - - - LingoFingerprint\n",
      " - - - MACCSFingerprint\n",
      " - - - MAPFingerprint\n",
      " - - - MHFPFingerprint\n",
      " - - - MordredFingerprint\n",
      " - - - MORSEFingerprint\n",
      " - - - PatternFingerprint\n",
      " - - - PhysiochemicalPropertiesFingerprint\n",
      " - - - PubChemFingerprint\n",
      " - - - RDFFingerprint\n",
      " - - - RDKitFingerprint\n",
      " - - - SECFPFingerprint\n",
      " - - - TopologicalTorsionFingerprint\n",
      " - - - USRFingerprint\n",
      " - - - USRCATFingerprint\n",
      " - - - WHIMFingerprint\n",
      "ogbg-molbbbp\n",
      " - - - AtomPairFingerprint\n",
      " - - - AutocorrFingerprint\n",
      " - - - AvalonFingerprint\n",
      " - - - ECFPFingerprint\n",
      " - - - ERGFingerprint\n",
      " - - - EStateFingerprint\n",
      " - - - GhoseCrippenFingerprint\n",
      " - - - KlekotaRothFingerprint\n",
      " - - - LaggnerFingerprint\n",
      " - - - LayeredFingerprint\n",
      " - - - LingoFingerprint\n",
      " - - - MACCSFingerprint\n",
      " - - - MAPFingerprint\n",
      " - - - MHFPFingerprint\n",
      " - - - MordredFingerprint\n",
      " - - - MORSEFingerprint\n",
      " - - - PatternFingerprint\n",
      " - - - PhysiochemicalPropertiesFingerprint\n",
      " - - - PubChemFingerprint\n",
      " - - - RDFFingerprint\n",
      " - - - RDKitFingerprint\n",
      " - - - SECFPFingerprint\n",
      " - - - TopologicalTorsionFingerprint\n",
      " - - - USRFingerprint\n",
      " - - - USRCATFingerprint\n",
      " - - - WHIMFingerprint\n",
      "ogbg-molhiv\n",
      " - - - AtomPairFingerprint\n",
      " - - - AutocorrFingerprint\n",
      " - - - AvalonFingerprint\n",
      " - - - ECFPFingerprint\n",
      " - - - ERGFingerprint\n",
      " - - - EStateFingerprint\n",
      " - - - GhoseCrippenFingerprint\n",
      " - - - KlekotaRothFingerprint\n",
      " - - - LaggnerFingerprint\n",
      " - - - LayeredFingerprint\n",
      " - - - LingoFingerprint\n",
      " - - - MACCSFingerprint\n",
      " - - - MAPFingerprint\n",
      " - - - MHFPFingerprint\n",
      " - - - MordredFingerprint\n",
      " - - - MORSEFingerprint\n",
      " - - - PatternFingerprint\n",
      " - - - PhysiochemicalPropertiesFingerprint\n",
      " - - - PubChemFingerprint\n",
      " - - - RDFFingerprint\n",
      " - - - RDKitFingerprint\n",
      " - - - SECFPFingerprint\n",
      " - - - TopologicalTorsionFingerprint\n",
      " - - - USRFingerprint\n",
      " - - - USRCATFingerprint\n",
      " - - - WHIMFingerprint\n"
     ]
    }
   ],
   "source": [
    "from sklearn.impute import SimpleImputer\n",
    "from sklearn.preprocessing import RobustScaler\n",
    "\n",
    "transformed_datasets = []\n",
    "for dataset_name, data in zip(DATASET_NAMES, all_datasets):\n",
    "    print(dataset_name)\n",
    "    \n",
    "    os.makedirs(f\"saved_fingerprints/{dataset_name}\",exist_ok=True)\n",
    "    X, y = data\n",
    "    \n",
    "    transformed_datasets.append([])\n",
    "    for fingerprint in all_fingerprints:\n",
    "        print(f\" - - - {fingerprint.__name__}\")\n",
    "        \n",
    "        if not os.path.exists(f\"saved_fingerprints/{dataset_name}/{fingerprint.__name__}.npy\"):\n",
    "            \n",
    "            # some fingerprints can't process all moleculex. they implement transform_x_y method\n",
    "            if fingerprint.__name__ not in [\"USRFingerprint\",\"USRCATFingerprint\"]:\n",
    "                X_transformed = fingerprint(n_jobs=-1).transform(X)\n",
    "                y_transformed = y # we can't just use the same y everytime, as it can differ in size\n",
    "            \n",
    "            else:\n",
    "                X_transformed,y_transformed = fingerprint(n_jobs=-1).transform_x_y(X,y)        \n",
    "                np.save(f\"saved_fingerprints/{dataset_name}/{fingerprint.__name__}_labels.npy\", y_transformed, allow_pickle=True)\n",
    "            \n",
    "            # we can perform some preprocessing - Mordred fingerprint can have missing values.\n",
    "            X_transformed = SimpleImputer(strategy=\"median\").fit_transform(X_transformed)\n",
    "            X_transformed = RobustScaler().fit_transform(X_transformed)\n",
    "            \n",
    "            np.save(f\"saved_fingerprints/{dataset_name}/{fingerprint.__name__}.npy\", X_transformed, allow_pickle=True)\n",
    "            transformed_datasets[-1].append((X_transformed,y_transformed))\n",
    "        \n",
    "        else:\n",
    "            X_transformed = np.load(f\"saved_fingerprints/{dataset_name}/{fingerprint.__name__}.npy\", allow_pickle=True)\n",
    "            \n",
    "            if fingerprint.__name__ not in [\"USRFingerprint\",\"USRCATFingerprint\"]:\n",
    "                y_transformed = y\n",
    "            \n",
    "            else:\n",
    "                y_transformed = np.load(f\"saved_fingerprints/{dataset_name}/{fingerprint.__name__}_labels.npy\", allow_pickle=True)   \n",
    "            \n",
    "            transformed_datasets[-1].append((X_transformed,y_transformed))\n",
    "                \n",
    "        "
   ]
  },
  {
   "cell_type": "markdown",
   "id": "dfb25ff6f19bbab3",
   "metadata": {
    "collapsed": false,
    "jupyter": {
     "outputs_hidden": false
    }
   },
   "source": [
    "# visualize the fingerprints using the 4 different methods"
   ]
  },
  {
   "cell_type": "code",
   "execution_count": 5,
   "id": "da5ac586490979a6",
   "metadata": {
    "ExecuteTime": {
     "end_time": "2024-05-10T14:50:50.804001Z",
     "start_time": "2024-05-10T14:50:39.659654400Z"
    },
    "collapsed": false,
    "jupyter": {
     "outputs_hidden": false
    }
   },
   "outputs": [],
   "source": [
    "from matplotlib import pyplot as plt\n",
    "from pacmap import PaCMAP\n",
    "from trimap import TRIMAP\n",
    "from umap import UMAP\n",
    "from sklearn.manifold import TSNE"
   ]
  },
  {
   "cell_type": "code",
   "execution_count": 6,
   "id": "44a3b9b7e8477be5",
   "metadata": {
    "ExecuteTime": {
     "end_time": "2024-05-10T14:50:50.820001Z",
     "start_time": "2024-05-10T14:50:50.807001900Z"
    },
    "collapsed": false,
    "jupyter": {
     "outputs_hidden": false
    }
   },
   "outputs": [],
   "source": [
    "def plot_classes(X_2D, y, name, file_path):\n",
    "    fig = plt.figure(figsize=(8, 8))\n",
    "    ax = fig.add_subplot(1, 1, 1)\n",
    "    ax.set_xlabel(\"Component 1\", fontsize=15)\n",
    "    ax.set_ylabel(\"Component 2\", fontsize=15)\n",
    "    ax.set_title(name, fontsize=20)\n",
    "    scatter = ax.scatter(X_2D[:, 0], X_2D[:, 1], c=y, marker=\".\")\n",
    "    legend = ax.legend(*scatter.legend_elements(), loc=\"best\", title=\"Classes\")\n",
    "    ax.add_artist(legend)\n",
    "    plt.tight_layout()\n",
    "    ax.savefig(file_path)"
   ]
  },
  {
   "cell_type": "code",
   "execution_count": 7,
   "id": "1df1fc3eae9e9843",
   "metadata": {
    "ExecuteTime": {
     "end_time": "2024-05-10T15:31:21.257779600Z",
     "start_time": "2024-05-10T14:51:32.902327400Z"
    },
    "collapsed": false,
    "jupyter": {
     "outputs_hidden": false
    }
   },
   "outputs": [],
   "source": [
    "dim_reduction_transformers = [TSNE, UMAP, TRIMAP, PaCMAP]\n",
    "\n",
    "for dataset_name, data in zip(DATASET_NAMES, transformed_datasets):        \n",
    "    for fingerprint, transformed_mols in zip(all_fingerprints, data):\n",
    "        for transformer in dim_reduction_transformers:\n",
    "            os.makedirs(f\"saved_plots/{dataset_name}/{transformer.__name__}\",exist_ok=True)\n",
    "            name = fingerprint.__name__\n",
    "            if not os.path.exists(f\"saved_plots/{dataset_name}/{transformer.__name__}/{name}.png\"):\n",
    "                X, y = transformed_mols\n",
    "                X_2D = transformer.transform(X)\n",
    "                plot_classes(X_2D, y, name, f\"saved_plots/{dataset_name}/{transformer.__name__}/{name}.png\")\n",
    "                "
   ]
  },
  {
   "cell_type": "code",
   "execution_count": null,
   "id": "a41f66086ad72387",
   "metadata": {
    "ExecuteTime": {
     "end_time": "2024-05-10T15:38:56.443492Z",
     "start_time": "2024-05-10T15:38:56.432492300Z"
    },
    "collapsed": false,
    "jupyter": {
     "outputs_hidden": false
    }
   },
   "outputs": [],
   "source": []
  }
 ],
 "metadata": {
  "kernelspec": {
   "display_name": "Python 3 (ipykernel)",
   "language": "python",
   "name": "python3"
  },
  "language_info": {
   "codemirror_mode": {
    "name": "ipython",
    "version": 3
   },
   "file_extension": ".py",
   "mimetype": "text/x-python",
   "name": "python",
   "nbconvert_exporter": "python",
   "pygments_lexer": "ipython3",
   "version": "3.10.0"
  }
 },
 "nbformat": 4,
 "nbformat_minor": 5
}
